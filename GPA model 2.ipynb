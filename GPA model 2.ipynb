{
 "cells": [
  {
   "cell_type": "code",
   "execution_count": 1,
   "metadata": {},
   "outputs": [],
   "source": [
    "using Random, Distributions, Statistics"
   ]
  },
  {
   "cell_type": "code",
   "execution_count": 2,
   "metadata": {},
   "outputs": [
    {
     "data": {
      "text/plain": [
       "Dict{Symbol,Tuple{Int64,Int64,Int64}} with 3 entries:\n",
       "  :flat => (23, 4, 1)\n",
       "  :gen  => (15, 6, 3)\n",
       "  :med  => (19, 5, 2)"
      ]
     },
     "execution_count": 2,
     "metadata": {},
     "output_type": "execute_result"
    }
   ],
   "source": [
    "large_class = Dict(:flat => (46,9,1),:med => (40,10,3), :gen => (34,11,5))\n",
    "small_class = Dict(:flat => (23,4,1),:med => (19,5,2), :gen => (15,6,3))"
   ]
  },
  {
   "cell_type": "code",
   "execution_count": 3,
   "metadata": {},
   "outputs": [
    {
     "data": {
      "text/plain": [
       "Dict{Symbol,Tuple{Int64,Int64,Int64}} with 3 entries:\n",
       "  :flat => (23, 4, 1)\n",
       "  :gen  => (15, 6, 3)\n",
       "  :med  => (19, 5, 2)"
      ]
     },
     "execution_count": 3,
     "metadata": {},
     "output_type": "execute_result"
    }
   ],
   "source": [
    "large_class = Dict(:flat => (46,9,1),:med => (40,10,3), :gen => (34,11,5))\n",
    "small_class = Dict(:flat => (23,4,1),:med => (19,5,2), :gen => (15,6,3))"
   ]
  },
  {
   "cell_type": "code",
   "execution_count": 12,
   "metadata": {},
   "outputs": [
    {
     "data": {
      "text/plain": [
       "Dict{Any,Any} with 10 entries:\n",
       "  :I => (:L3, :L11, :L15, :S9)\n",
       "  :F => (:L2, :L10, :L14, :S6)\n",
       "  :A => (:L1, :L6, :L12, :S1)\n",
       "  :G => (:L4, :L6, :L14, :S7)\n",
       "  :D => (:L3, :L8, :L10, :S4)\n",
       "  :H => (:L5, :L11, :L13, :S8)\n",
       "  :B => (:L1, :L7, :L13, :S2)\n",
       "  :J => (:L5, :L9, :L15, :S10)\n",
       "  :E => (:L4, :L8, :L12, :S5)\n",
       "  :C => (:L2, :L7, :L9, :S3)"
      ]
     },
     "execution_count": 12,
     "metadata": {},
     "output_type": "execute_result"
    }
   ],
   "source": [
    "sa = Dict()\n",
    "sa[:A]=(:L1,:L6,:L12,:S1)\n",
    "sa[:B]=(:L1,:L7,:L13,:S2)\n",
    "sa[:C]=(:L2,:L7,:L9,:S3)\n",
    "sa[:D]=(:L3,:L8,:L10,:S4)\n",
    "sa[:E]=(:L4,:L8,:L12,:S5)\n",
    "sa[:F]=(:L2,:L10,:L14,:S6)\n",
    "sa[:G]=(:L4,:L6,:L14,:S7)\n",
    "sa[:H]=(:L5,:L11,:L13,:S8)\n",
    "sa[:I]=(:L3,:L11,:L15,:S9)\n",
    "sa[:J]=(:L5,:L9,:L15,:S10)\n",
    "section_assignments = sa"
   ]
  },
  {
   "cell_type": "code",
   "execution_count": 5,
   "metadata": {},
   "outputs": [],
   "source": [
    "class_type = Dict()\n",
    "for i=1:5\n",
    "    class_type[Symbol(\"L\",i)] = :crim\n",
    "end\n",
    "\n",
    "for i=6:8\n",
    "    class_type[Symbol(\"L\",i)] = :civ_pro\n",
    "end\n",
    "\n",
    "for i=9:11\n",
    "    class_type[Symbol(\"L\",i)] = :contracts\n",
    "end\n",
    "\n",
    "for i=12:15\n",
    "    class_type[Symbol(\"L\",i)] = :torts\n",
    "end\n",
    "\n",
    "for i in [1,2,5,7]\n",
    "    class_type[Symbol(\"S\",i)] = :contracts\n",
    "end\n",
    "\n",
    "for i in [3,4]\n",
    "    class_type[Symbol(\"S\",i)] = :torts\n",
    "end\n",
    "\n",
    "for i in [6,8,9,10]\n",
    "    class_type[Symbol(\"S\",i)] = :civ_pro\n",
    "end"
   ]
  },
  {
   "cell_type": "code",
   "execution_count": 6,
   "metadata": {},
   "outputs": [
    {
     "data": {
      "text/plain": [
       "10-element Array{Any,1}:\n",
       " :A\n",
       " :B\n",
       " :C\n",
       " :D\n",
       " :E\n",
       " :F\n",
       " :G\n",
       " :H\n",
       " :I\n",
       " :J"
      ]
     },
     "execution_count": 6,
     "metadata": {},
     "output_type": "execute_result"
    }
   ],
   "source": [
    "classes = foldl(vcat,map(collect,values(sa) |> collect)) |> union\n",
    "sections = keys(sa) |> collect |> sort"
   ]
  },
  {
   "cell_type": "code",
   "execution_count": 14,
   "metadata": {},
   "outputs": [
    {
     "data": {
      "text/plain": [
       "generate_sample (generic function with 2 methods)"
      ]
     },
     "execution_count": 14,
     "metadata": {},
     "output_type": "execute_result"
    }
   ],
   "source": [
    "function generate_sample(tup, shuf = true)\n",
    "    o1 = ones(tup[1]) * 3.3\n",
    "    o2 = ones(tup[2]) * 3.7\n",
    "    o3 = ones(tup[2]) * 3.0\n",
    "    o4 = ones(tup[3]) * 4.0\n",
    "    o5 = ones(tup[3]) * 2.7\n",
    "    \n",
    "    grades = foldl(vcat,[o1,o2,o3,o4,o5])\n",
    "    \n",
    "    out = shuf ? shuffle(grades) : sort(grades)\n",
    "end\n",
    "        "
   ]
  },
  {
   "cell_type": "code",
   "execution_count": 7,
   "metadata": {},
   "outputs": [
    {
     "data": {
      "text/plain": [
       "get_class_curves (generic function with 1 method)"
      ]
     },
     "execution_count": 7,
     "metadata": {},
     "output_type": "execute_result"
    }
   ],
   "source": [
    "function get_class_curves(classes::Array, tt_l,tt_s)\n",
    "    class_curves = Dict()\n",
    "    \n",
    "    \n",
    "    @assert tt_l |> isodd\n",
    "    @assert tt_s |> iseven\n",
    "\n",
    "    l_classes = filter(x->string(x)[1]=='L', classes) |> shuffle\n",
    "    @assert length(l_classes) - 2 >= tt_l\n",
    "\n",
    "    s_l = (length(l_classes) - tt_l)/2 |> x->(convert(Int,x))\n",
    "\n",
    "    s_classes = filter(x->string(x)[1]=='S', classes) |> shuffle\n",
    "    @assert length(l_classes) - 2 >= tt_s\n",
    "\n",
    "    s_s = (length(s_classes) - tt_s)/2 |> x->(convert(Int,x))\n",
    "\n",
    "    j = 1\n",
    "    for i=1:tt_l\n",
    "        class_curves[l_classes[i]] = :med\n",
    "        j += 1\n",
    "    end\n",
    "    \n",
    "    k = j\n",
    "    for i=j:(j+ s_l - 1)\n",
    "        class_curves[l_classes[i]] = :flat\n",
    "        k += 1\n",
    "    end\n",
    "    \n",
    "    for i=k:(k + s_l -1)\n",
    "        class_curves[l_classes[i]] = :gen\n",
    "    end\n",
    "    \n",
    "    j = 1\n",
    "    for i=1:tt_s\n",
    "        class_curves[s_classes[i]] = :med\n",
    "        j += 1\n",
    "    end\n",
    "    \n",
    "    k = j\n",
    "    for i=j:(j+ s_s - 1)\n",
    "        class_curves[s_classes[i]] = :flat\n",
    "        k += 1\n",
    "    end\n",
    "    \n",
    "    for i=k:(k + s_s -1)\n",
    "        class_curves[s_classes[i]] = :gen\n",
    "    end\n",
    "    \n",
    "    \n",
    "    class_curves\n",
    "end"
   ]
  },
  {
   "cell_type": "code",
   "execution_count": 8,
   "metadata": {},
   "outputs": [
    {
     "data": {
      "text/plain": [
       "run_sim (generic function with 1 method)"
      ]
     },
     "execution_count": 8,
     "metadata": {},
     "output_type": "execute_result"
    }
   ],
   "source": [
    "function run_sim(sa, class_types, shuffle_factor, tt_l, tt_s)\n",
    "    classes = foldl(vcat,map(collect,values(sa) |> collect)) |> union\n",
    "    \n",
    "    students = Dict()\n",
    "    all_students = []\n",
    "    for s in keys(sa)\n",
    "        arr = Vector{Symbol}()\n",
    "        for i=1:33\n",
    "            si = Symbol(string(s),i)\n",
    "            push!(arr,si)\n",
    "            push!(all_students, si)\n",
    "        end\n",
    "        students[s] = arr\n",
    "    end\n",
    "    student_grades = Dict()\n",
    "    for s in all_students\n",
    "        student_grades[s] = []\n",
    "    end\n",
    "    \n",
    "    #normally distributed intelligence\n",
    "    mm = 1\n",
    "    dd = .1\n",
    "    dist = Normal(mm,dd)\n",
    "    \n",
    "    student_smart = Dict()\n",
    "    for s in all_students\n",
    "        student_smart[s] = rand(dist)\n",
    "    end\n",
    "    \n",
    "    ccc = Dict()\n",
    "    for cl in classes\n",
    "        ss = []\n",
    "        for s in keys(sa) \n",
    "            if length(intersect(sa[s],[cl])) > 0\n",
    "                push!(ss, s)\n",
    "            end\n",
    "        end\n",
    "        ccc[cl] = ss\n",
    "    end\n",
    "    \n",
    "    class_curves = get_class_curves(classes, tt_l, tt_s)\n",
    "    \n",
    "    out_test = []\n",
    "    for cl in classes\n",
    "        mult = class_type[cl] == :crim ? 3 : 4\n",
    "\n",
    "        st = foldl(vcat,map(x->students[x], ccc[cl]))\n",
    "\n",
    "        s_mod = []\n",
    "\n",
    "        for s in st\n",
    "            s_factor = (rand() - .5)*(2*shuffle_factor)\n",
    "            push!(s_mod,(s,student_smart[s] + s_factor))\n",
    "        end\n",
    "\n",
    "        s_shuffled = sort(s_mod, by = x->x[2])\n",
    "        this_curve = string(cl)[1] == 'L' ? large_class[class_curves[cl]] : small_class[class_curves[cl]]\n",
    "        class_grades = generate_sample(this_curve, false) * mult\n",
    "\n",
    "        out1 = []\n",
    "\n",
    "        for (i,x) in enumerate(class_grades)\n",
    "            push!(out1, (s_shuffled[i][1], x))\n",
    "        end\n",
    "\n",
    "        push!(out_test, out1)\n",
    "    end  \n",
    "    \n",
    "    all_gp = foldl(vcat,out_test)\n",
    "    \n",
    "    for p in all_gp\n",
    "        push!(student_grades[p[1]],p[2])\n",
    "    end\n",
    "    \n",
    "    student_gpas = Dict()\n",
    "    for k in keys(student_grades)\n",
    "        student_gpas[k] = sum(student_grades[k])/15\n",
    "    end\n",
    "    \n",
    "    student_gpas\n",
    "end"
   ]
  },
  {
   "cell_type": "code",
   "execution_count": 11,
   "metadata": {},
   "outputs": [
    {
     "data": {
      "text/plain": [
       "full_results (generic function with 2 methods)"
      ]
     },
     "execution_count": 11,
     "metadata": {},
     "output_type": "execute_result"
    }
   ],
   "source": [
    "function full_results(results, full = false)\n",
    "    gpas = values(results) |> collect\n",
    "    for i =.05:.05:.95\n",
    "        println(\"the \",i,\" percentile is: \", quantile(gpas, i))\n",
    "    end\n",
    "    if full\n",
    "        return gpas |> sort\n",
    "    end\n",
    "end"
   ]
  },
  {
   "cell_type": "code",
   "execution_count": 32,
   "metadata": {},
   "outputs": [
    {
     "data": {
      "text/plain": [
       "x_percentile (generic function with 1 method)"
      ]
     },
     "execution_count": 32,
     "metadata": {},
     "output_type": "execute_result"
    }
   ],
   "source": [
    "function x_percentile(results,x)\n",
    "    gpas = values(results) |> collect\n",
    "    quantile(gpas, x)\n",
    "end"
   ]
  },
  {
   "cell_type": "code",
   "execution_count": 48,
   "metadata": {},
   "outputs": [],
   "source": [
    "sims = Dict()\n",
    "for i = 0:.05:.25\n",
    "    mc = []\n",
    "    for j=1:100\n",
    "        out = run_sim(section_assignments, class_type, i, 13,8) |> x->x_percentile(x, .95)\n",
    "        push!(mc, out)\n",
    "    end\n",
    "    sims[i] = mc\n",
    "end"
   ]
  },
  {
   "cell_type": "code",
   "execution_count": 49,
   "metadata": {},
   "outputs": [
    {
     "name": "stdout",
     "output_type": "stream",
     "text": [
      "95th percentile for shuffle factor of 0.0 is: 3.8354999999999984\n",
      "95th percentile for shuffle factor of 0.05 is: 3.820149999999994\n",
      "95th percentile for shuffle factor of 0.1 is: 3.76969666666666\n",
      "95th percentile for shuffle factor of 0.15 is: 3.712523333333331\n",
      "95th percentile for shuffle factor of 0.2 is: 3.678483333333337\n",
      "95th percentile for shuffle factor of 0.25 is: 3.6598700000000024\n"
     ]
    }
   ],
   "source": [
    "for k in sort(collect(keys(sims)))\n",
    "    println(\"95th percentile for shuffle factor of \", k, \" is: \", mean(sims[k]))\n",
    "end"
   ]
  },
  {
   "cell_type": "code",
   "execution_count": null,
   "metadata": {},
   "outputs": [],
   "source": []
  }
 ],
 "metadata": {
  "kernelspec": {
   "display_name": "Julia 1.0.3",
   "language": "julia",
   "name": "julia-1.0"
  },
  "language_info": {
   "file_extension": ".jl",
   "mimetype": "application/julia",
   "name": "julia",
   "version": "1.0.3"
  }
 },
 "nbformat": 4,
 "nbformat_minor": 2
}
