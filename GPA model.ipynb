{
 "cells": [
  {
   "cell_type": "code",
   "execution_count": 250,
   "metadata": {},
   "outputs": [],
   "source": [
    "using Random, Distributions, Statistics"
   ]
  },
  {
   "cell_type": "code",
   "execution_count": 33,
   "metadata": {},
   "outputs": [
    {
     "data": {
      "text/plain": [
       "Dict{Symbol,Tuple{Int64,Int64,Int64}} with 3 entries:\n",
       "  :flat => (23, 4, 1)\n",
       "  :gen  => (15, 6, 3)\n",
       "  :med  => (19, 5, 2)"
      ]
     },
     "execution_count": 33,
     "metadata": {},
     "output_type": "execute_result"
    }
   ],
   "source": [
    "large_class = Dict(:flat => (46,9,1),:med => (40,10,3), :gen => (34,11,5))\n",
    "small_class = Dict(:flat => (23,4,1),:med => (19,5,2), :gen => (15,6,3))"
   ]
  },
  {
   "cell_type": "code",
   "execution_count": 41,
   "metadata": {},
   "outputs": [
    {
     "data": {
      "text/plain": [
       "(:L5, :L9, :L15, :S10)"
      ]
     },
     "execution_count": 41,
     "metadata": {},
     "output_type": "execute_result"
    }
   ],
   "source": [
    "sa = Dict()\n",
    "sa[:A]=(:L1,:L6,:L12,:S1)\n",
    "sa[:B]=(:L1,:L7,:L13,:S2)\n",
    "sa[:C]=(:L2,:L7,:L9,:S3)\n",
    "sa[:D]=(:L3,:L8,:L10,:S4)\n",
    "sa[:E]=(:L4,:L8,:L12,:S5)\n",
    "sa[:F]=(:L2,:L10,:L14,:S6)\n",
    "sa[:G]=(:L4,:L6,:L14,:S7)\n",
    "sa[:H]=(:L5,:L11,:L13,:S8)\n",
    "sa[:I]=(:L3,:L11,:L15,:S9)\n",
    "sa[:J]=(:L5,:L9,:L15,:S10)"
   ]
  },
  {
   "cell_type": "code",
   "execution_count": 51,
   "metadata": {},
   "outputs": [],
   "source": [
    "class_type = Dict()\n",
    "for i=1:5\n",
    "    class_type[Symbol(\"L\",i)] = :crim\n",
    "end\n",
    "\n",
    "for i=6:8\n",
    "    class_type[Symbol(\"L\",i)] = :civ_pro\n",
    "end\n",
    "\n",
    "for i=9:11\n",
    "    class_type[Symbol(\"L\",i)] = :contracts\n",
    "end\n",
    "\n",
    "for i=12:15\n",
    "    class_type[Symbol(\"L\",i)] = :torts\n",
    "end\n",
    "\n",
    "for i in [1,2,5,7]\n",
    "    class_type[Symbol(\"S\",i)] = :contracts\n",
    "end\n",
    "\n",
    "for i in [3,4]\n",
    "    class_type[Symbol(\"S\",i)] = :torts\n",
    "end\n",
    "\n",
    "for i in [6,8,9,10]\n",
    "    class_type[Symbol(\"S\",i)] = :civ_pro\n",
    "end"
   ]
  },
  {
   "cell_type": "code",
   "execution_count": 400,
   "metadata": {},
   "outputs": [
    {
     "data": {
      "text/plain": [
       "10-element Array{Any,1}:\n",
       " :A\n",
       " :B\n",
       " :C\n",
       " :D\n",
       " :E\n",
       " :F\n",
       " :G\n",
       " :H\n",
       " :I\n",
       " :J"
      ]
     },
     "execution_count": 400,
     "metadata": {},
     "output_type": "execute_result"
    }
   ],
   "source": [
    "classes = foldl(vcat,map(collect,values(sa) |> collect)) |> union\n",
    "sections = keys(sa) |> collect |> sort"
   ]
  },
  {
   "cell_type": "code",
   "execution_count": 401,
   "metadata": {},
   "outputs": [
    {
     "data": {
      "text/plain": [
       "get_class_grades (generic function with 2 methods)"
      ]
     },
     "execution_count": 401,
     "metadata": {},
     "output_type": "execute_result"
    }
   ],
   "source": [
    "function get_class_grades(classes::Array, tup)\n",
    "    @assert tup[1] |> isodd\n",
    "    @assert tup[2] |> iseven\n",
    "    \n",
    "    l_classes = filter(x->string(x)[1]=='L', classes) |> shuffle\n",
    "    @assert length(l_classes) - 2 >= tup[1]\n",
    "    \n",
    "    s_l = (length(l_classes) - tup[1])/2 |> x->(convert(Int,x))\n",
    "    \n",
    "    s_classes = filter(x->string(x)[1]=='S', classes) |> shuffle\n",
    "    @assert length(l_classes) - 2 >= tup[2]\n",
    "    \n",
    "    s_s = (length(s_classes) - tup[2])/2 |> x->(convert(Int,x))\n",
    "\n",
    "\n",
    "    class_grades = Dict()\n",
    "    \n",
    "    j = 1\n",
    "    for i=1:tup[1]\n",
    "        class_grades[l_classes[i]] = generate_sample(large_class[:med])\n",
    "        j += 1\n",
    "    end\n",
    "    \n",
    "    k = j\n",
    "    for i=j:(j + s_l -1)\n",
    "        class_grades[l_classes[i]] = generate_sample(large_class[:flat])\n",
    "        k+=1\n",
    "    end\n",
    "    \n",
    "    for i=k:(k + s_l -1)\n",
    "        class_grades[l_classes[i]] = generate_sample(large_class[:gen])\n",
    "    end\n",
    "    \n",
    "    # small section classes\n",
    "    j = 1\n",
    "    for i=1:tup[2]\n",
    "        class_grades[s_classes[i]] = generate_sample(small_class[:med])\n",
    "        j += 1\n",
    "    end\n",
    "    \n",
    "    k = j\n",
    "    for i=j:(j + s_s - 1)\n",
    "        class_grades[s_classes[i]] = generate_sample(small_class[:flat])\n",
    "        k +=1\n",
    "    end\n",
    "    \n",
    "    for i=k:(k + s_s - 1)\n",
    "        class_grades[s_classes[i]] = generate_sample(small_class[:gen])\n",
    "    end\n",
    "    \n",
    "    \n",
    "    class_grades\n",
    "end"
   ]
  },
  {
   "cell_type": "code",
   "execution_count": 402,
   "metadata": {
    "scrolled": true
   },
   "outputs": [],
   "source": [
    "students = Dict()\n",
    "all_students = []\n",
    "for s in keys(sa)\n",
    "    arr = Vector{Symbol}()\n",
    "    for i=1:33\n",
    "        si = Symbol(string(s),i)\n",
    "        push!(arr,si)\n",
    "        push!(all_students, si)\n",
    "    end\n",
    "    students[s] = arr\n",
    "end\n",
    "student_grades = Dict()\n",
    "for s in all_students\n",
    "    student_grades[s] = []\n",
    "end"
   ]
  },
  {
   "cell_type": "code",
   "execution_count": 403,
   "metadata": {},
   "outputs": [
    {
     "data": {
      "text/plain": [
       "generate_sample (generic function with 2 methods)"
      ]
     },
     "execution_count": 403,
     "metadata": {},
     "output_type": "execute_result"
    }
   ],
   "source": [
    "function generate_sample(tup, shuf = true)\n",
    "    o1 = ones(tup[1]) * 3.3\n",
    "    o2 = ones(tup[2]) * 3.7\n",
    "    o3 = ones(tup[2]) * 3.0\n",
    "    o4 = ones(tup[3]) * 4.0\n",
    "    o5 = ones(tup[3]) * 2.7\n",
    "    \n",
    "    grades = foldl(vcat,[o1,o2,o3,o4,o5])\n",
    "    \n",
    "    out = shuf ? shuffle(grades) : sort(grades)\n",
    "end\n",
    "        "
   ]
  },
  {
   "cell_type": "code",
   "execution_count": 404,
   "metadata": {},
   "outputs": [
    {
     "data": {
      "text/plain": [
       "0.05"
      ]
     },
     "execution_count": 404,
     "metadata": {},
     "output_type": "execute_result"
    }
   ],
   "source": [
    "shuffle_factor = .05"
   ]
  },
  {
   "cell_type": "code",
   "execution_count": 405,
   "metadata": {},
   "outputs": [
    {
     "data": {
      "text/plain": [
       "Normal{Float64}(μ=1.0, σ=0.1)"
      ]
     },
     "execution_count": 405,
     "metadata": {},
     "output_type": "execute_result"
    }
   ],
   "source": [
    "mm = 1\n",
    "dd = .1\n",
    "dist = Normal(mm,dd)"
   ]
  },
  {
   "cell_type": "code",
   "execution_count": 406,
   "metadata": {},
   "outputs": [],
   "source": [
    "student_smart = Dict()\n",
    "for s in all_students\n",
    "    student_smart[s] = rand(dist)\n",
    "end"
   ]
  },
  {
   "cell_type": "code",
   "execution_count": 407,
   "metadata": {
    "scrolled": true
   },
   "outputs": [
    {
     "data": {
      "text/plain": [
       "Dict{Any,Any} with 25 entries:\n",
       "  :L10 => Any[:F, :D]\n",
       "  :S9  => Any[:I]\n",
       "  :L11 => Any[:I, :H]\n",
       "  :L2  => Any[:F, :C]\n",
       "  :L12 => Any[:A, :E]\n",
       "  :S1  => Any[:A]\n",
       "  :S8  => Any[:H]\n",
       "  :L1  => Any[:A, :B]\n",
       "  :S4  => Any[:D]\n",
       "  :L4  => Any[:G, :E]\n",
       "  :L5  => Any[:H, :J]\n",
       "  :L14 => Any[:F, :G]\n",
       "  :L8  => Any[:D, :E]\n",
       "  :S3  => Any[:C]\n",
       "  :L13 => Any[:H, :B]\n",
       "  :S2  => Any[:B]\n",
       "  :S5  => Any[:E]\n",
       "  :S10 => Any[:J]\n",
       "  :L15 => Any[:I, :J]\n",
       "  :S6  => Any[:F]\n",
       "  :L6  => Any[:A, :G]\n",
       "  :S7  => Any[:G]\n",
       "  :L9  => Any[:J, :C]\n",
       "  :L3  => Any[:I, :D]\n",
       "  :L7  => Any[:B, :C]"
      ]
     },
     "execution_count": 407,
     "metadata": {},
     "output_type": "execute_result"
    }
   ],
   "source": [
    "ccc = Dict()\n",
    "for cl in classes\n",
    "    ss = []\n",
    "    for s in keys(sa) \n",
    "        if length(intersect(sa[s],[cl])) > 0\n",
    "            push!(ss, s)\n",
    "        end\n",
    "    end\n",
    "    ccc[cl] = ss\n",
    "end\n",
    "ccc"
   ]
  },
  {
   "cell_type": "code",
   "execution_count": 408,
   "metadata": {},
   "outputs": [
    {
     "data": {
      "text/plain": [
       "get_class_curves (generic function with 1 method)"
      ]
     },
     "execution_count": 408,
     "metadata": {},
     "output_type": "execute_result"
    }
   ],
   "source": [
    "function get_class_curves(classes::Array, tt_l,tt_s)\n",
    "    class_curves = Dict()\n",
    "    \n",
    "    \n",
    "    @assert tt_l |> isodd\n",
    "    @assert tt_s |> iseven\n",
    "\n",
    "    l_classes = filter(x->string(x)[1]=='L', classes) |> shuffle\n",
    "    @assert length(l_classes) - 2 >= tt_l\n",
    "\n",
    "    s_l = (length(l_classes) - tt_l)/2 |> x->(convert(Int,x))\n",
    "\n",
    "    s_classes = filter(x->string(x)[1]=='S', classes) |> shuffle\n",
    "    @assert length(l_classes) - 2 >= tt_s\n",
    "\n",
    "    s_s = (length(s_classes) - tt_s)/2 |> x->(convert(Int,x))\n",
    "\n",
    "    j = 1\n",
    "    for i=1:tt_l\n",
    "        class_curves[l_classes[i]] = :med\n",
    "        j += 1\n",
    "    end\n",
    "    \n",
    "    k = j\n",
    "    for i=j:(j+ s_l - 1)\n",
    "        class_curves[l_classes[i]] = :flat\n",
    "        k += 1\n",
    "    end\n",
    "    \n",
    "    for i=k:(k + s_l -1)\n",
    "        class_curves[l_classes[i]] = :gen\n",
    "    end\n",
    "    \n",
    "    j = 1\n",
    "    for i=1:tt_s\n",
    "        class_curves[s_classes[i]] = :med\n",
    "        j += 1\n",
    "    end\n",
    "    \n",
    "    k = j\n",
    "    for i=j:(j+ s_s - 1)\n",
    "        class_curves[s_classes[i]] = :flat\n",
    "        k += 1\n",
    "    end\n",
    "    \n",
    "    for i=k:(k + s_s -1)\n",
    "        class_curves[s_classes[i]] = :gen\n",
    "    end\n",
    "    \n",
    "    \n",
    "    class_curves\n",
    "end"
   ]
  },
  {
   "cell_type": "code",
   "execution_count": 409,
   "metadata": {
    "scrolled": true
   },
   "outputs": [
    {
     "data": {
      "text/plain": [
       "Dict{Any,Any} with 25 entries:\n",
       "  :L10 => :med\n",
       "  :S9  => :med\n",
       "  :L2  => :med\n",
       "  :L11 => :med\n",
       "  :L12 => :gen\n",
       "  :S8  => :med\n",
       "  :S1  => :med\n",
       "  :L1  => :med\n",
       "  :S4  => :med\n",
       "  :L4  => :gen\n",
       "  :L5  => :med\n",
       "  :L14 => :flat\n",
       "  :L8  => :med\n",
       "  :S3  => :med\n",
       "  :L13 => :med\n",
       "  :S2  => :med\n",
       "  :S5  => :gen\n",
       "  :S10 => :flat\n",
       "  :L15 => :flat\n",
       "  :S6  => :med\n",
       "  :L6  => :med\n",
       "  :S7  => :med\n",
       "  :L9  => :med\n",
       "  :L3  => :med\n",
       "  :L7  => :med"
      ]
     },
     "execution_count": 409,
     "metadata": {},
     "output_type": "execute_result"
    }
   ],
   "source": [
    "class_curves = get_class_curves(classes,11,8)"
   ]
  },
  {
   "cell_type": "code",
   "execution_count": 410,
   "metadata": {},
   "outputs": [],
   "source": [
    "out_test = []\n",
    "for cl in classes\n",
    "    mult = class_type[cl] == :crim ? 3 : 4\n",
    "    \n",
    "    st = foldl(vcat,map(x->students[x], ccc[cl]))\n",
    "    \n",
    "    s_mod = []\n",
    "    \n",
    "    for s in st\n",
    "        s_factor = (rand() - .5)*(2*shuffle_factor)\n",
    "        push!(s_mod,(s,student_smart[s] + s_factor))\n",
    "    end\n",
    "    \n",
    "    s_shuffled = sort(s_mod, by = x->x[2])\n",
    "    this_curve = string(cl)[1] == 'L' ? large_class[class_curves[cl]] : small_class[class_curves[cl]]\n",
    "    class_grades = generate_sample(this_curve, false) * mult\n",
    "    \n",
    "    out1 = []\n",
    "    \n",
    "    for (i,x) in enumerate(class_grades)\n",
    "        push!(out1, (s_shuffled[i][1], x))\n",
    "    end\n",
    "    \n",
    "    push!(out_test, out1)\n",
    "end    "
   ]
  },
  {
   "cell_type": "code",
   "execution_count": 411,
   "metadata": {
    "scrolled": true
   },
   "outputs": [
    {
     "data": {
      "text/plain": [
       "1320-element Array{Any,1}:\n",
       " (:D18, 8.100000000000001)\n",
       " (:I11, 8.100000000000001)\n",
       " (:D21, 8.100000000000001)\n",
       " (:I9, 9.0)               \n",
       " (:I3, 9.0)               \n",
       " (:D31, 9.0)              \n",
       " (:I29, 9.0)              \n",
       " (:I31, 9.0)              \n",
       " (:I26, 9.0)              \n",
       " (:D26, 9.0)              \n",
       " (:I4, 9.0)               \n",
       " (:D19, 9.0)              \n",
       " (:D32, 9.0)              \n",
       " ⋮                        \n",
       " (:C26, 13.2)             \n",
       " (:C23, 13.2)             \n",
       " (:C21, 13.2)             \n",
       " (:C18, 13.2)             \n",
       " (:C32, 13.2)             \n",
       " (:C1, 14.8)              \n",
       " (:C12, 14.8)             \n",
       " (:C2, 14.8)              \n",
       " (:C6, 14.8)              \n",
       " (:C20, 14.8)             \n",
       " (:C24, 16.0)             \n",
       " (:C30, 16.0)             "
      ]
     },
     "execution_count": 411,
     "metadata": {},
     "output_type": "execute_result"
    }
   ],
   "source": [
    "all_gp = foldl(vcat,out_test)"
   ]
  },
  {
   "cell_type": "code",
   "execution_count": 412,
   "metadata": {},
   "outputs": [],
   "source": [
    "for p in all_gp\n",
    "    push!(student_grades[p[1]],p[2])\n",
    "end"
   ]
  },
  {
   "cell_type": "code",
   "execution_count": 413,
   "metadata": {},
   "outputs": [
    {
     "data": {
      "text/plain": [
       "4-element Array{Any,1}:\n",
       " 13.2              \n",
       "  9.899999999999999\n",
       " 13.2              \n",
       " 14.8              "
      ]
     },
     "execution_count": 413,
     "metadata": {},
     "output_type": "execute_result"
    }
   ],
   "source": [
    "student_grades[:E14]"
   ]
  },
  {
   "cell_type": "code",
   "execution_count": 414,
   "metadata": {},
   "outputs": [],
   "source": [
    "student_gpas = Dict()\n",
    "for k in keys(student_grades)\n",
    "    student_gpas[k] = sum(student_grades[k])/15\n",
    "end"
   ]
  },
  {
   "cell_type": "code",
   "execution_count": 415,
   "metadata": {
    "scrolled": true
   },
   "outputs": [
    {
     "data": {
      "text/plain": [
       "330-element Array{Any,1}:\n",
       " 2.7               \n",
       " 2.7               \n",
       " 2.7               \n",
       " 2.7               \n",
       " 2.7               \n",
       " 2.7800000000000002\n",
       " 2.7800000000000002\n",
       " 2.7800000000000002\n",
       " 2.7800000000000002\n",
       " 2.8400000000000003\n",
       " 2.8400000000000003\n",
       " 2.8400000000000003\n",
       " 2.8400000000000003\n",
       " ⋮                 \n",
       " 3.8600000000000003\n",
       " 3.92              \n",
       " 3.92              \n",
       " 3.92              \n",
       " 3.92              \n",
       " 3.92              \n",
       " 3.92              \n",
       " 3.94              \n",
       " 4.0               \n",
       " 4.0               \n",
       " 4.0               \n",
       " 4.0               "
      ]
     },
     "execution_count": 415,
     "metadata": {},
     "output_type": "execute_result"
    }
   ],
   "source": [
    "all_gpas = values(student_gpas)|> collect |> sort"
   ]
  },
  {
   "cell_type": "code",
   "execution_count": 416,
   "metadata": {},
   "outputs": [
    {
     "name": "stdout",
     "output_type": "stream",
     "text": [
      "the 0.05 percentile is: 2.92\n",
      "the 0.1 percentile is: 3.0\n",
      "the 0.15 percentile is: 3.08\n",
      "the 0.2 percentile is: 3.1600000000000006\n",
      "the 0.25 percentile is: 3.2199999999999998\n",
      "the 0.3 percentile is: 3.2399999999999998\n",
      "the 0.35 percentile is: 3.3\n",
      "the 0.4 percentile is: 3.3\n",
      "the 0.45 percentile is: 3.3\n",
      "the 0.5 percentile is: 3.3\n",
      "the 0.55 percentile is: 3.3\n",
      "the 0.6 percentile is: 3.3\n",
      "the 0.65 percentile is: 3.3\n",
      "the 0.7 percentile is: 3.3\n",
      "the 0.75 percentile is: 3.4066666666666663\n",
      "the 0.8 percentile is: 3.4866666666666664\n",
      "the 0.85 percentile is: 3.610666666666666\n",
      "the 0.9 percentile is: 3.7\n",
      "the 0.95 percentile is: 3.8130000000000006\n"
     ]
    }
   ],
   "source": [
    "for i =.05:.05:.95\n",
    "    println(\"the \",i,\" percentile is: \", quantile(all_gpas, i))\n",
    "end"
   ]
  },
  {
   "cell_type": "code",
   "execution_count": null,
   "metadata": {},
   "outputs": [],
   "source": []
  },
  {
   "cell_type": "code",
   "execution_count": 224,
   "metadata": {},
   "outputs": [],
   "source": [
    "# no intelligence; random grades\n",
    "for cl in keys(all_grades)\n",
    "    mult = class_type[cl] == :crim ? 3 : 4\n",
    "    \n",
    "    st = foldl(vcat,map(x->students[x], ccc[cl]))\n",
    "    gr = all_grades[cl]\n",
    "    @assert length(st) == length(gr)\n",
    "    \n",
    "    for (i,s) in enumerate(st)\n",
    "        push!(student_grades[s],gr[i] * mult)\n",
    "    end\n",
    "end"
   ]
  },
  {
   "cell_type": "code",
   "execution_count": 225,
   "metadata": {},
   "outputs": [
    {
     "data": {
      "text/plain": [
       "4-element Array{Any,1}:\n",
       " 13.2              \n",
       " 13.2              \n",
       "  9.899999999999999\n",
       " 10.8              "
      ]
     },
     "execution_count": 225,
     "metadata": {},
     "output_type": "execute_result"
    }
   ],
   "source": [
    "student_grades[:A11]"
   ]
  },
  {
   "cell_type": "code",
   "execution_count": 226,
   "metadata": {},
   "outputs": [],
   "source": [
    "gpas = []\n",
    "for arr in values(student_grades)\n",
    "    push!(gpas, sum(arr)/15)\n",
    "end"
   ]
  },
  {
   "cell_type": "code",
   "execution_count": 227,
   "metadata": {},
   "outputs": [],
   "source": [
    "using Statistics"
   ]
  },
  {
   "cell_type": "code",
   "execution_count": 232,
   "metadata": {},
   "outputs": [
    {
     "data": {
      "text/plain": [
       "3.733939999999999"
      ]
     },
     "execution_count": 232,
     "metadata": {},
     "output_type": "execute_result"
    }
   ],
   "source": [
    "quantile(gpas,.997)"
   ]
  },
  {
   "cell_type": "code",
   "execution_count": 229,
   "metadata": {},
   "outputs": [
    {
     "data": {
      "text/plain": [
       "3.3"
      ]
     },
     "execution_count": 229,
     "metadata": {},
     "output_type": "execute_result"
    }
   ],
   "source": [
    "median(gpas)"
   ]
  },
  {
   "cell_type": "code",
   "execution_count": null,
   "metadata": {},
   "outputs": [],
   "source": []
  }
 ],
 "metadata": {
  "kernelspec": {
   "display_name": "Julia 1.0.3",
   "language": "julia",
   "name": "julia-1.0"
  },
  "language_info": {
   "file_extension": ".jl",
   "mimetype": "application/julia",
   "name": "julia",
   "version": "1.0.3"
  }
 },
 "nbformat": 4,
 "nbformat_minor": 2
}
