{
 "cells": [
  {
   "cell_type": "code",
   "execution_count": 28,
   "metadata": {},
   "outputs": [],
   "source": [
    "import statsmodels.sandbox.distributions.extras as extras\n",
    "import scipy.interpolate as interpolate\n",
    "import numpy as np"
   ]
  },
  {
   "cell_type": "code",
   "execution_count": 29,
   "metadata": {},
   "outputs": [],
   "source": [
    "from statistics import mean\n",
    "from statistics import variance\n",
    "from scipy.stats import skew\n",
    "from scipy.stats import kurtosis"
   ]
  },
  {
   "cell_type": "code",
   "execution_count": 30,
   "metadata": {},
   "outputs": [],
   "source": [
    "def raw_moment(vec, r):\n",
    "    return 1 / len(vec) * sum(list(map(lambda i: i**r, vec)))\n",
    "    \n",
    "def kelly(retvec, int=6):\n",
    "    moms = []\n",
    "    for i in range(int):\n",
    "        moms.append(raw_moment(retvec, i+1))\n",
    "    p = []\n",
    "    for i in range(len(moms)):\n",
    "        p.append((-1)**i * moms[i])\n",
    "    r = np.polynomial.polynomial.polyroots(p)\n",
    "    rr = r.real[abs(r.imag)<1e-5]\n",
    "    return min(rr)"
   ]
  },
  {
   "cell_type": "code",
   "execution_count": 9,
   "metadata": {},
   "outputs": [],
   "source": [
    "# https://medium.com/@josh_lxdx/kelly-fraction-f-higher-moments-9eedb0adb22c\n",
    "\n",
    "def kelly_four_moments(mu, sigma, c3, c4):\n",
    "    return (c3/(3*c4) - (c3**2/c4**2 - 3*(mu**2 + sigma**2)/c4)/(3*(-c3**3/c4**3 + 9*c3*(mu**2 + sigma**2)/(2*c4**2) + np.sqrt(-4*(c3**2/c4**2 - 3*(mu**2 + sigma**2)/c4)**3 \n",
    "         + (-2*c3**3/c4**3 + 9*c3*(mu**2 + sigma**2)/c4**2 - 27*mu/c4)**2)/2 - 27*mu/(2*c4))**(1/3))\n",
    "         - (-c3**3/c4**3 + 9*c3*(mu**2 + sigma**2)/(2*c4**2) + np.sqrt(-4*(c3**2/c4**2 - 3*(mu**2 + sigma**2)/c4)**3\n",
    "         + (-2*c3**3/c4**3 + 9*c3*(mu**2 + sigma**2)/c4**2 - 27*mu/c4)**2)/2 - 27*mu/(2*c4))**(1/3)/3)"
   ]
  },
  {
   "cell_type": "code",
   "execution_count": 10,
   "metadata": {},
   "outputs": [],
   "source": [
    "# see https://medium.com/@josh_lxdx/generating-random-variables-with-higher-moments-1bcbd83ec4c8\n",
    "\n",
    "def generate_normal_four_moments(mu, sigma, skew, kurt, size=1000, sd_wide = 10):\n",
    "    f = extras.pdf_mvsk([mu, sigma, skew, kurt])\n",
    "    x = np.linspace(mu - sd_wide * sigma, mu + sd_wide * sigma, num=500)\n",
    "    y = [f(i) for i in x]\n",
    "    yy = np.cumsum(y) / np.sum(y)\n",
    "    inv_cdf = interpolate.interp1d(yy, x, fill_value=\"extrapolate\")\n",
    "    rr = np.random.rand(size)\n",
    "    return inv_cdf(rr)"
   ]
  },
  {
   "cell_type": "code",
   "execution_count": 42,
   "metadata": {},
   "outputs": [],
   "source": [
    "sample = generate_normal_four_moments(.01, .03, .001, 1)"
   ]
  },
  {
   "cell_type": "code",
   "execution_count": 43,
   "metadata": {},
   "outputs": [],
   "source": [
    "import statistics as stat"
   ]
  },
  {
   "cell_type": "code",
   "execution_count": 44,
   "metadata": {},
   "outputs": [],
   "source": [
    "_mu = mean(sample)\n",
    "_sigma = variance(sample)\n",
    "_skew = skew(sample)\n",
    "_kurtosis = kurtosis(sample)"
   ]
  },
  {
   "cell_type": "code",
   "execution_count": 45,
   "metadata": {},
   "outputs": [
    {
     "data": {
      "text/plain": [
       "0.50810388162818"
      ]
     },
     "execution_count": 45,
     "metadata": {},
     "output_type": "execute_result"
    }
   ],
   "source": [
    "# raw moment kelly\n",
    "kelly(sample,4) "
   ]
  },
  {
   "cell_type": "code",
   "execution_count": 46,
   "metadata": {},
   "outputs": [
    {
     "data": {
      "text/plain": [
       "-0.24342540849939354"
      ]
     },
     "execution_count": 46,
     "metadata": {},
     "output_type": "execute_result"
    }
   ],
   "source": [
    "# central moment kelly\n",
    "kelly_four_moments(_mu, _sigma, _skew, _kurtosis)"
   ]
  },
  {
   "cell_type": "code",
   "execution_count": 48,
   "metadata": {},
   "outputs": [
    {
     "data": {
      "text/plain": [
       "0.5080763525200168"
      ]
     },
     "execution_count": 48,
     "metadata": {},
     "output_type": "execute_result"
    }
   ],
   "source": [
    "# normal approximation\n",
    "mean(sample) / variance(sample)"
   ]
  },
  {
   "cell_type": "code",
   "execution_count": null,
   "metadata": {},
   "outputs": [],
   "source": []
  }
 ],
 "metadata": {
  "kernelspec": {
   "display_name": "Python 3",
   "language": "python",
   "name": "python3"
  },
  "language_info": {
   "codemirror_mode": {
    "name": "ipython",
    "version": 3
   },
   "file_extension": ".py",
   "mimetype": "text/x-python",
   "name": "python",
   "nbconvert_exporter": "python",
   "pygments_lexer": "ipython3",
   "version": "3.7.1"
  }
 },
 "nbformat": 4,
 "nbformat_minor": 2
}
